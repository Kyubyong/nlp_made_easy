{
 "cells": [
  {
   "cell_type": "markdown",
   "metadata": {},
   "source": [
    "Let's see if it's effective to augment training data in the task of [quora question pairs](https://www.kaggle.com/c/quora-question-pairs)."
   ]
  },
  {
   "cell_type": "markdown",
   "metadata": {},
   "source": [
    "### Download and extract QQP dataset."
   ]
  },
  {
   "cell_type": "code",
   "execution_count": 17,
   "metadata": {},
   "outputs": [],
   "source": [
    "import os"
   ]
  },
  {
   "cell_type": "code",
   "execution_count": 25,
   "metadata": {},
   "outputs": [],
   "source": [
    "os.system('wget https://firebasestorage.googleapis.com/v0/b/mtl-sentence-representations.appspot.com/o/data%2FQQP.zip?alt=media&token=700c6acf-160d-4d89-81d1-de4191d02cb5')\n",
    "os.system('unzip QQP.zip')"
   ]
  },
  {
   "cell_type": "code",
   "execution_count": 26,
   "metadata": {},
   "outputs": [
    {
     "name": "stdout",
     "output_type": "stream",
     "text": [
      "total 60949\r\n",
      "-rw-r--r-- 1 root root  5815716 May  2  2018 dev.tsv\r\n",
      "-rw-r--r-- 1 root root 52360463 May  2  2018 train.tsv\r\n",
      "drwxr-xr-x 1 root root        0 Aug  5 10:31 original\r\n",
      "-rw-r--r-- 1 root root  4259840 Aug  5 10:32 test.tsv\r\n"
     ]
    }
   ],
   "source": [
    "!ls -ltr QQP"
   ]
  },
  {
   "cell_type": "markdown",
   "metadata": {},
   "source": [
    "Let's check what the training data looks like."
   ]
  },
  {
   "cell_type": "code",
   "execution_count": 90,
   "metadata": {},
   "outputs": [
    {
     "name": "stdout",
     "output_type": "stream",
     "text": [
      "id\tqid1\tqid2\tquestion1\tquestion2\tis_duplicate\n",
      "133273\t213221\t213222\tHow is the life of a math student? Could you describe your own experiences?\tWhich level of prepration is enough for the exam jlpt5?\t0\n"
     ]
    }
   ],
   "source": [
    "train_data = \"QQP/train.tsv\"\n",
    "dev_data = \"QQP/dev.tsv\"\n",
    "print(\"\\n\".join(open(train_data, 'r').read().splitlines()[:2]))"
   ]
  },
  {
   "cell_type": "code",
   "execution_count": 97,
   "metadata": {},
   "outputs": [],
   "source": [
    "import numpy as np\n",
    "import torch\n",
    "from torch import nn\n",
    "from torch.autograd import Variable\n",
    "import torch.nn.functional as F\n",
    "import torch.utils.data as Data\n",
    "import torch.optim as optim\n",
    "from sklearn.metrics import f1_score, accuracy_score\n",
    "import random\n",
    "import copy\n",
    "from collections import Counter\n",
    "import re"
   ]
  },
  {
   "cell_type": "markdown",
   "metadata": {},
   "source": [
    "## Prepare datasets"
   ]
  },
  {
   "cell_type": "markdown",
   "metadata": {},
   "source": [
    "### train"
   ]
  },
  {
   "cell_type": "code",
   "execution_count": 105,
   "metadata": {},
   "outputs": [],
   "source": [
    "def normalize(sent):\n",
    "    sent = sent.lower()\n",
    "    sent = re.sub(\"[^a-z0-9' ]\", \"\", sent)\n",
    "    return sent"
   ]
  },
  {
   "cell_type": "code",
   "execution_count": 176,
   "metadata": {},
   "outputs": [],
   "source": [
    "def split_data(fin, maxlen):\n",
    "    '''Divide data into things of label 0's and 1's'''\n",
    "    data0, data1 = [], []\n",
    "    for line in open(fin, 'r').read().strip().splitlines()[1:]:\n",
    "        cols = line.split(\"\\t\")\n",
    "        if len(cols)==6:\n",
    "            _, _, _, sent1, sent2, label = cols\n",
    "            sent1 = normalize(sent1)\n",
    "            sent2 = normalize(sent2)\n",
    "            if len(sent1.split()) < maxlen/2 and len(sent2.split()) < maxlen/2:\n",
    "                pair = (sent1, sent2)\n",
    "                if label==\"0\":\n",
    "                    data0.append(pair)\n",
    "                else:\n",
    "                    data1.append(pair)  \n",
    "    return data0, data1"
   ]
  },
  {
   "cell_type": "code",
   "execution_count": 227,
   "metadata": {},
   "outputs": [],
   "source": [
    "MAXLEN = 200 # We include sentence pairs of which lengths are not more than 200 characters."
   ]
  },
  {
   "cell_type": "code",
   "execution_count": 181,
   "metadata": {
    "scrolled": false
   },
   "outputs": [
    {
     "name": "stdout",
     "output_type": "stream",
     "text": [
      "229442 134378\n"
     ]
    }
   ],
   "source": [
    "train0, train1 = split_data(train_data, MAXLEN)         \n",
    "print(len(train0), len(train1))"
   ]
  },
  {
   "cell_type": "code",
   "execution_count": 183,
   "metadata": {},
   "outputs": [],
   "source": [
    "# all training sents\n",
    "train01 = []\n",
    "for t in (train0, train1):\n",
    "    for sent1, sent2 in t:\n",
    "        train01.append(sent1)\n",
    "        train01.append(sent2)"
   ]
  },
  {
   "cell_type": "markdown",
   "metadata": {},
   "source": [
    "### dev"
   ]
  },
  {
   "cell_type": "code",
   "execution_count": 184,
   "metadata": {},
   "outputs": [
    {
     "name": "stdout",
     "output_type": "stream",
     "text": [
      "25544 14885\n"
     ]
    }
   ],
   "source": [
    "dev0, dev1 = split_data(dev_data, MAXLEN)    \n",
    "print(len(dev0), len(dev1))"
   ]
  },
  {
   "cell_type": "markdown",
   "metadata": {},
   "source": [
    "## Vocabulary"
   ]
  },
  {
   "cell_type": "code",
   "execution_count": 112,
   "metadata": {},
   "outputs": [
    {
     "data": {
      "text/plain": [
       "107038"
      ]
     },
     "execution_count": 112,
     "metadata": {},
     "output_type": "execute_result"
    }
   ],
   "source": [
    "# num_vocab\n",
    "words = [word for sent in train01 for word in sent.split()]\n",
    "word2cnt = Counter(words)\n",
    "len(word2cnt)"
   ]
  },
  {
   "cell_type": "code",
   "execution_count": 226,
   "metadata": {},
   "outputs": [],
   "source": [
    "MIN_CNT = 5 # We include words that occurred at least 5 times.\n",
    "vocab = [\"<pad>\", \"<unk>\", \"<sep>\"]\n",
    "for word, cnt in word2cnt.most_common(len(word2cnt)):\n",
    "    if cnt < MIN_CNT:\n",
    "        break\n",
    "    vocab.append(word)"
   ]
  },
  {
   "cell_type": "code",
   "execution_count": 178,
   "metadata": {},
   "outputs": [
    {
     "data": {
      "text/plain": [
       "30433"
      ]
     },
     "execution_count": 178,
     "metadata": {},
     "output_type": "execute_result"
    }
   ],
   "source": [
    "VOCAB_SIZE = len(vocab)\n",
    "VOCAB_SIZE"
   ]
  },
  {
   "cell_type": "code",
   "execution_count": 179,
   "metadata": {},
   "outputs": [],
   "source": [
    "token2idx = {token:idx for idx, token in enumerate(vocab)}\n",
    "idx2token = {idx:token for idx, token in enumerate(vocab)}"
   ]
  },
  {
   "cell_type": "markdown",
   "metadata": {},
   "source": [
    "## Encode"
   ]
  },
  {
   "cell_type": "code",
   "execution_count": 123,
   "metadata": {},
   "outputs": [],
   "source": [
    "def encode_sents(sent1, sent2):\n",
    "    tokens1 = [token2idx.get(token, 1) for token in sent1.split()] #1:<unk>\n",
    "    tokens2 = [token2idx.get(token, 1) for token in sent2.split()]\n",
    "    \n",
    "    tokens = tokens1 + [2] + tokens2 + [0]*MAXLEN # ... <sep> ... <pad> <pad> ...\n",
    "    tokens = tokens[:MAXLEN]\n",
    "    return tokens#"
   ]
  },
  {
   "cell_type": "markdown",
   "metadata": {},
   "source": [
    "### \\#1. baseline"
   ]
  },
  {
   "cell_type": "code",
   "execution_count": 202,
   "metadata": {
    "scrolled": false
   },
   "outputs": [],
   "source": [
    "_X_train0 = [] # list of lists\n",
    "for sent1, sent2 in train0:\n",
    "    tokens = encode_sents(sent1, sent2)\n",
    "    _X_train0.append(tokens)\n",
    "\n",
    "_X_train1 = []\n",
    "for sent1, sent2 in train1:\n",
    "    tokens = encode_sents(sent1, sent2)\n",
    "    _X_train1.append(tokens)\n",
    "\n",
    "_X_train = _X_train0 + _X_train1\n",
    "_Y_train = [0]*len(_X_train0) + [1]*len(_X_train1)"
   ]
  },
  {
   "cell_type": "code",
   "execution_count": 203,
   "metadata": {},
   "outputs": [
    {
     "name": "stdout",
     "output_type": "stream",
     "text": [
      "229442 134378 363820\n"
     ]
    }
   ],
   "source": [
    "print(len(_X_train0), len(_X_train1), len(_X_train0)+len(_X_train1))"
   ]
  },
  {
   "cell_type": "code",
   "execution_count": 204,
   "metadata": {},
   "outputs": [],
   "source": [
    "NUM_EPOCHS = 10\n",
    "_X_train *= NUM_EPOCHS\n",
    "_Y_train *= NUM_EPOCHS"
   ]
  },
  {
   "cell_type": "code",
   "execution_count": 205,
   "metadata": {},
   "outputs": [
    {
     "name": "stdout",
     "output_type": "stream",
     "text": [
      "3638200 3638200\n"
     ]
    }
   ],
   "source": [
    "print(len(_X_train), len(_Y_train))"
   ]
  },
  {
   "cell_type": "markdown",
   "metadata": {},
   "source": [
    "### \\#2. label0 aug."
   ]
  },
  {
   "cell_type": "markdown",
   "metadata": {},
   "source": [
    "The train0, non-duplicat sentence pairs, is augmented by matching a sentence with a random sentence."
   ]
  },
  {
   "cell_type": "code",
   "execution_count": 206,
   "metadata": {},
   "outputs": [],
   "source": [
    "_X_train0_aug = copy.copy(_X_train0)\n",
    "\n",
    "for sent1, sent2 in train0*9:\n",
    "    sent = sent1 if random.random() < 0.5 else sent2\n",
    "    tokens = encode_sents(sent, random.choice(train01))\n",
    "    _X_train0_aug.append(tokens)\n",
    "\n",
    "_X_train1 *= NUM_EPOCHS\n",
    "_X_train_aug = _X_train0_aug + _X_train1\n",
    "_Y_train_aug = [0]*len(_X_train0_aug) + [1]*(len(_X_train1))"
   ]
  },
  {
   "cell_type": "code",
   "execution_count": 209,
   "metadata": {},
   "outputs": [
    {
     "name": "stdout",
     "output_type": "stream",
     "text": [
      "3638200 3638200\n"
     ]
    }
   ],
   "source": [
    "print(len(_X_train_aug), len(_Y_train_aug))"
   ]
  },
  {
   "cell_type": "markdown",
   "metadata": {},
   "source": [
    "### dev"
   ]
  },
  {
   "cell_type": "code",
   "execution_count": 210,
   "metadata": {},
   "outputs": [],
   "source": [
    "_X_dev0, _X_dev1 = [], [] # list of lists\n",
    "maxlen = 0\n",
    "for sent1, sent2 in dev0:\n",
    "    tokens = encode_sents(sent1, sent2)\n",
    "    _X_dev0.append(tokens)\n",
    "for sent1, sent2 in dev1:\n",
    "    tokens = encode_sents(sent1, sent2)\n",
    "    _X_dev1.append(tokens)\n",
    "\n",
    "_X_dev = _X_dev0 + _X_dev1\n",
    "_Y_dev = [0]*len(_X_dev0) + [1]*len(_X_dev1)"
   ]
  },
  {
   "cell_type": "markdown",
   "metadata": {},
   "source": [
    "### Convert to tensors"
   ]
  },
  {
   "cell_type": "code",
   "execution_count": 211,
   "metadata": {},
   "outputs": [],
   "source": [
    "X_train = torch.LongTensor(_X_train)\n",
    "Y_train = torch.LongTensor(_Y_train)\n",
    "\n",
    "X_train_aug = torch.LongTensor(_X_train_aug)\n",
    "Y_train_aug = torch.LongTensor(_Y_train_aug)\n",
    "\n",
    "X_dev = torch.LongTensor(_X_dev)\n",
    "Y_dev = torch.LongTensor(_Y_dev)\n"
   ]
  },
  {
   "cell_type": "markdown",
   "metadata": {},
   "source": [
    "## Data Loader"
   ]
  },
  {
   "cell_type": "code",
   "execution_count": 212,
   "metadata": {},
   "outputs": [],
   "source": [
    "BATCH_SIZE=256"
   ]
  },
  {
   "cell_type": "markdown",
   "metadata": {},
   "source": [
    "### \\#1. baseline"
   ]
  },
  {
   "cell_type": "code",
   "execution_count": 213,
   "metadata": {},
   "outputs": [
    {
     "name": "stdout",
     "output_type": "stream",
     "text": [
      "14212\n"
     ]
    }
   ],
   "source": [
    "train_dataset = Data.TensorDataset(X_train, Y_train)\n",
    "train_loader = Data.DataLoader(dataset=train_dataset,\n",
    "                              batch_size=BATCH_SIZE,\n",
    "                              shuffle=True,\n",
    "                              num_workers=4)\n",
    "print(len(train_loader))"
   ]
  },
  {
   "cell_type": "markdown",
   "metadata": {},
   "source": [
    "### \\#2. label0 aug."
   ]
  },
  {
   "cell_type": "code",
   "execution_count": 214,
   "metadata": {},
   "outputs": [
    {
     "name": "stdout",
     "output_type": "stream",
     "text": [
      "14212\n"
     ]
    }
   ],
   "source": [
    "train_aug_dataset = Data.TensorDataset(X_train_aug, Y_train_aug)\n",
    "train_aug_loader = Data.DataLoader(dataset=train_aug_dataset,\n",
    "                              batch_size=BATCH_SIZE,\n",
    "                              shuffle=True,\n",
    "                              num_workers=4)\n",
    "print(len(train_aug_loader))"
   ]
  },
  {
   "cell_type": "markdown",
   "metadata": {},
   "source": [
    "### dev"
   ]
  },
  {
   "cell_type": "code",
   "execution_count": 215,
   "metadata": {},
   "outputs": [
    {
     "name": "stdout",
     "output_type": "stream",
     "text": [
      "158\n"
     ]
    }
   ],
   "source": [
    "dev_dataset = Data.TensorDataset(X_dev, Y_dev)\n",
    "dev_loader = Data.DataLoader(dataset=dev_dataset,\n",
    "                              batch_size=BATCH_SIZE,\n",
    "                              shuffle=False,\n",
    "                              num_workers=4)\n",
    "print(len(dev_loader))"
   ]
  },
  {
   "cell_type": "markdown",
   "metadata": {},
   "source": [
    "## Model"
   ]
  },
  {
   "cell_type": "code",
   "execution_count": 216,
   "metadata": {},
   "outputs": [],
   "source": [
    "class Net(nn.Module):\n",
    "    def __init__(self, embedding_dim=256, hidden_dim=256, vocab_size=VOCAB_SIZE):\n",
    "        '''\n",
    "        Fix the model architecture and its parameters for this purpose\n",
    "        '''\n",
    "        super(Net, self).__init__()\n",
    "        \n",
    "        self.embed = nn.Embedding(vocab_size, embedding_dim, padding_idx=0)\n",
    "        self.lstm = nn.LSTM(embedding_dim, hidden_dim, batch_first=True, bidirectional=True)\n",
    "        self.dense = nn.Linear(hidden_dim, 2)\n",
    "\n",
    "    def forward(self, x):\n",
    "        x = x.to('cuda')\n",
    "        x = self.embed(x)  \n",
    "        \n",
    "        outputs, (h, c) = self.lstm(x) # (maxlen, batch, hidden_dim)\n",
    "        last_hidden_states = h[-1]\n",
    "        \n",
    "        logits = self.dense(last_hidden_states)\n",
    "        return logits\n"
   ]
  },
  {
   "cell_type": "markdown",
   "metadata": {},
   "source": [
    "## Train & test functions"
   ]
  },
  {
   "cell_type": "code",
   "execution_count": 217,
   "metadata": {},
   "outputs": [],
   "source": [
    "def eval(model, dev_loader):\n",
    "    model.eval()\n",
    "\n",
    "    y_pred, y_true = [], []\n",
    "    with torch.no_grad():\n",
    "        for inputs, targets in dev_loader:\n",
    "            logits = model(inputs)\n",
    "            _, preds = logits.max(1, keepdim=False)\n",
    "            y_pred.extend(preds.tolist())\n",
    "            y_true.extend(targets.tolist())           \n",
    "    \n",
    "    f1score = f1_score(y_true, y_pred)\n",
    "    acc = accuracy_score(y_true, y_pred)\n",
    "    \n",
    "    print('F1_score: %0.3f, acc.: %0.3f\\n' %(f1score, acc))"
   ]
  },
  {
   "cell_type": "code",
   "execution_count": 221,
   "metadata": {},
   "outputs": [],
   "source": [
    "def train(model, train_loader, optimizer, criterion, eval_interval, dev_loader):\n",
    "    model.train()\n",
    "    for gs, (inputs, targets) in enumerate(train_loader):\n",
    "        optimizer.zero_grad()\n",
    "        logits = model(inputs)\n",
    "        targets = targets.to('cuda')\n",
    "        loss = criterion(logits, targets)\n",
    "        \n",
    "        loss.backward()\n",
    "        optimizer.step()\n",
    "        \n",
    "        if gs > 0 and gs % eval_interval == 0:\n",
    "            print(\"global step =\", gs)\n",
    "            print(\"loss =%.3f\" % loss )\n",
    "            eval(model, dev_loader)\n",
    "        model.train()"
   ]
  },
  {
   "cell_type": "markdown",
   "metadata": {},
   "source": [
    "## Experiments"
   ]
  },
  {
   "cell_type": "code",
   "execution_count": 222,
   "metadata": {},
   "outputs": [],
   "source": [
    "model = Net().cuda()\n",
    "optimizer = optim.Adam(model.parameters(), lr=.001)\n",
    "criterion = nn.CrossEntropyLoss()\n",
    "eval_interval = len(train_loader)//NUM_EPOCHS"
   ]
  },
  {
   "cell_type": "markdown",
   "metadata": {},
   "source": [
    "### \\#1. baseline"
   ]
  },
  {
   "cell_type": "code",
   "execution_count": 223,
   "metadata": {},
   "outputs": [
    {
     "name": "stdout",
     "output_type": "stream",
     "text": [
      "global step = 1421\n",
      "loss =0.440\n",
      "F1_score: 0.668, acc.: 0.773\n",
      "\n",
      "global step = 2842\n",
      "loss =0.392\n",
      "F1_score: 0.688, acc.: 0.789\n",
      "\n",
      "global step = 4263\n",
      "loss =0.327\n",
      "F1_score: 0.728, acc.: 0.801\n",
      "\n",
      "global step = 5684\n",
      "loss =0.272\n",
      "F1_score: 0.729, acc.: 0.803\n",
      "\n",
      "global step = 7105\n",
      "loss =0.147\n",
      "F1_score: 0.737, acc.: 0.809\n",
      "\n",
      "global step = 8526\n",
      "loss =0.120\n",
      "F1_score: 0.742, acc.: 0.807\n",
      "\n",
      "global step = 9947\n",
      "loss =0.067\n",
      "F1_score: 0.740, acc.: 0.813\n",
      "\n",
      "global step = 11368\n",
      "loss =0.087\n",
      "F1_score: 0.738, acc.: 0.811\n",
      "\n",
      "global step = 12789\n",
      "loss =0.051\n",
      "F1_score: 0.738, acc.: 0.811\n",
      "\n",
      "global step = 14210\n",
      "loss =0.077\n",
      "F1_score: 0.742, acc.: 0.809\n",
      "\n"
     ]
    },
    {
     "data": {
      "text/plain": [
       "tensor(0.0395, device='cuda:0', grad_fn=<NllLossBackward>)"
      ]
     },
     "execution_count": 223,
     "metadata": {},
     "output_type": "execute_result"
    }
   ],
   "source": [
    "train(model, train_loader, optimizer, criterion, eval_interval, dev_loader)"
   ]
  },
  {
   "cell_type": "markdown",
   "metadata": {},
   "source": [
    "△ The best F1 score is .742, and accuracy is .813."
   ]
  },
  {
   "cell_type": "markdown",
   "metadata": {},
   "source": [
    "### \\#2. aug."
   ]
  },
  {
   "cell_type": "code",
   "execution_count": 224,
   "metadata": {},
   "outputs": [
    {
     "name": "stdout",
     "output_type": "stream",
     "text": [
      "global step = 1421\n",
      "loss =0.090\n",
      "F1_score: 0.746, acc.: 0.814\n",
      "\n",
      "global step = 2842\n",
      "loss =0.052\n",
      "F1_score: 0.747, acc.: 0.818\n",
      "\n",
      "global step = 4263\n",
      "loss =0.075\n",
      "F1_score: 0.749, acc.: 0.819\n",
      "\n",
      "global step = 5684\n",
      "loss =0.072\n",
      "F1_score: 0.750, acc.: 0.818\n",
      "\n",
      "global step = 7105\n",
      "loss =0.052\n",
      "F1_score: 0.751, acc.: 0.816\n",
      "\n",
      "global step = 8526\n",
      "loss =0.049\n",
      "F1_score: 0.752, acc.: 0.819\n",
      "\n",
      "global step = 9947\n",
      "loss =0.045\n",
      "F1_score: 0.752, acc.: 0.820\n",
      "\n",
      "global step = 11368\n",
      "loss =0.065\n",
      "F1_score: 0.754, acc.: 0.819\n",
      "\n",
      "global step = 12789\n",
      "loss =0.034\n",
      "F1_score: 0.754, acc.: 0.823\n",
      "\n",
      "global step = 14210\n",
      "loss =0.021\n",
      "F1_score: 0.747, acc.: 0.822\n",
      "\n"
     ]
    },
    {
     "data": {
      "text/plain": [
       "tensor(0.0440, device='cuda:0', grad_fn=<NllLossBackward>)"
      ]
     },
     "execution_count": 224,
     "metadata": {},
     "output_type": "execute_result"
    }
   ],
   "source": [
    "train(model, train_aug_loader, optimizer, criterion, eval_interval, dev_loader)"
   ]
  },
  {
   "cell_type": "markdown",
   "metadata": {},
   "source": [
    "△ The best F1 score is .754, and accuracy is .823."
   ]
  },
  {
   "cell_type": "code",
   "execution_count": null,
   "metadata": {},
   "outputs": [],
   "source": []
  }
 ],
 "metadata": {
  "anaconda-cloud": {},
  "kernelspec": {
   "display_name": "Python 3",
   "language": "python",
   "name": "python3"
  },
  "language_info": {
   "codemirror_mode": {
    "name": "ipython",
    "version": 3
   },
   "file_extension": ".py",
   "mimetype": "text/x-python",
   "name": "python",
   "nbconvert_exporter": "python",
   "pygments_lexer": "ipython3",
   "version": "3.6.7"
  }
 },
 "nbformat": 4,
 "nbformat_minor": 2
}
