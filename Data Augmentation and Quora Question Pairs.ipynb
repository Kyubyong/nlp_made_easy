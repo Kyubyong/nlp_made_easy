{
 "cells": [
  {
   "cell_type": "markdown",
   "metadata": {},
   "source": [
    "Let's investigate if it's effective to augment training data in the task of [quora question pairs](https://www.kaggle.com/c/quora-question-pairs)."
   ]
  },
  {
   "cell_type": "code",
   "execution_count": 35,
   "metadata": {},
   "outputs": [],
   "source": [
    "import numpy as np\n",
    "import torch\n",
    "from torch import nn\n",
    "from torch.autograd import Variable\n",
    "import torch.nn.functional as F\n",
    "import torch.utils.data as Data\n",
    "import torch.optim as optim\n",
    "from sklearn.metrics import precision_score, recall_score, f1_score, confusion_matrix\n",
    "import random\n",
    "import copy"
   ]
  },
  {
   "cell_type": "markdown",
   "metadata": {},
   "source": [
    "Let's check what the training data looks like."
   ]
  },
  {
   "cell_type": "code",
   "execution_count": 3,
   "metadata": {},
   "outputs": [
    {
     "name": "stdout",
     "output_type": "stream",
     "text": [
      "1\tWhat is your review of Hidden Figures -LRB- 2016 movie -RRB- ?\tWhat are your impressions of Hidden Figures -LRB- 2017 movie -RRB- ?\t11877\n"
     ]
    }
   ],
   "source": [
    "train_data = \"quora/train.tsv\"\n",
    "dev_data = \"quora/dev.tsv\"\n",
    "print(\"\\n\".join(open(train_data, 'r').read().splitlines()[:1]))"
   ]
  },
  {
   "cell_type": "markdown",
   "metadata": {},
   "source": [
    "## Prepare datasets"
   ]
  },
  {
   "cell_type": "markdown",
   "metadata": {},
   "source": [
    "### train"
   ]
  },
  {
   "cell_type": "markdown",
   "metadata": {},
   "source": [
    "We take only 120k samples from training data. Among them, samples for label 0 and 1 account for 40k and 80k, respectively."
   ]
  },
  {
   "cell_type": "code",
   "execution_count": 4,
   "metadata": {},
   "outputs": [],
   "source": [
    "train0, train1 = [], []\n",
    "for line in open(train_data, 'r'):\n",
    "    label, sent1, sent2, _ = line.strip().split(\"\\t\")\n",
    "    if label==\"0\":\n",
    "        train0.append((sent1, sent2))\n",
    "    else:\n",
    "        train1.append((sent1, sent2))\n",
    "\n",
    "random.shuffle(train0)\n",
    "random.shuffle(train1)               "
   ]
  },
  {
   "cell_type": "code",
   "execution_count": 5,
   "metadata": {},
   "outputs": [],
   "source": [
    "# 0:40K, 1: 80K\n",
    "train0 = train0[:40000]\n",
    "train1 = train1[:80000]"
   ]
  },
  {
   "cell_type": "code",
   "execution_count": 6,
   "metadata": {},
   "outputs": [],
   "source": [
    "# all sents\n",
    "train01 = []\n",
    "for t in (train0, train1):\n",
    "    for sent1, sent2 in t:\n",
    "        train01.append(sent1)\n",
    "        train01.append(sent2)"
   ]
  },
  {
   "cell_type": "markdown",
   "metadata": {},
   "source": [
    "### dev"
   ]
  },
  {
   "cell_type": "code",
   "execution_count": 7,
   "metadata": {},
   "outputs": [],
   "source": [
    "dev0, dev1 = [], []\n",
    "for line in open(dev_data, 'r'):\n",
    "    label, sent1, sent2, _ = line.strip().split(\"\\t\")\n",
    "    if label==\"0\":\n",
    "        dev0.append((sent1, sent2))\n",
    "    else:\n",
    "        dev1.append((sent1, sent2))"
   ]
  },
  {
   "cell_type": "markdown",
   "metadata": {},
   "source": [
    "## Settings"
   ]
  },
  {
   "cell_type": "code",
   "execution_count": 8,
   "metadata": {},
   "outputs": [],
   "source": [
    "VOCAB_SIZE=8000\n",
    "MAXLEN=100 # maximum sequence length\n",
    "BATCH_SIZE=256"
   ]
  },
  {
   "cell_type": "markdown",
   "metadata": {},
   "source": [
    "## BPE tokenization with sentencepiece"
   ]
  },
  {
   "cell_type": "code",
   "execution_count": 9,
   "metadata": {},
   "outputs": [],
   "source": [
    "import os\n",
    "import sentencepiece as spm"
   ]
  },
  {
   "cell_type": "code",
   "execution_count": 10,
   "metadata": {},
   "outputs": [],
   "source": [
    "dir = 'quora/bpe'\n",
    "os.makedirs(dir, exist_ok=True)\n",
    "with open(f\"{dir}/bpe.train\", 'w') as fout:\n",
    "    for sent1, sent2 in train0:\n",
    "        fout.write(sent1 + \"\\n\" + sent2 + \"\\n\")\n",
    "    for sent1, sent2 in train1:\n",
    "        fout.write(sent1 + \"\\n\" + sent2 + \"\\n\")"
   ]
  },
  {
   "cell_type": "code",
   "execution_count": 11,
   "metadata": {},
   "outputs": [],
   "source": [
    "# train bpe model\n",
    "def train_bpe(fpath, vocab_size, dir):\n",
    "    train = f'--input={fpath} \\\n",
    "              --normalization_rule_name=identity \\\n",
    "              --model_prefix={dir}/bpe \\\n",
    "              --character_coverage=1.0 \\\n",
    "              --vocab_size={vocab_size} \\\n",
    "              --model_type=bpe'\n",
    "    spm.SentencePieceTrainer.Train(train)"
   ]
  },
  {
   "cell_type": "code",
   "execution_count": 12,
   "metadata": {},
   "outputs": [],
   "source": [
    "train_bpe('quora/bpe/bpe.train', VOCAB_SIZE, 'quora/bpe')"
   ]
  },
  {
   "cell_type": "markdown",
   "metadata": {},
   "source": [
    "## Set Vocabulary"
   ]
  },
  {
   "cell_type": "code",
   "execution_count": 13,
   "metadata": {},
   "outputs": [
    {
     "data": {
      "text/plain": [
       "['<pad>', '<unk>', '<bos>', '<eos>', '<sep>', '▁t', '▁?', '▁a', 'in', 'at']"
      ]
     },
     "execution_count": 13,
     "metadata": {},
     "output_type": "execute_result"
    }
   ],
   "source": [
    "vocab = [\"<pad>\", \"<unk>\", \"<bos>\", \"<eos>\", \"<sep>\"]\n",
    "for line in open('quora/bpe/bpe.vocab', 'r').read().splitlines()[3:]:\n",
    "    token = line.split(\"\\t\")[0]\n",
    "    vocab.append(token)\n",
    "vocab[:10]"
   ]
  },
  {
   "cell_type": "code",
   "execution_count": 14,
   "metadata": {},
   "outputs": [],
   "source": [
    "token2idx = {token:idx for idx, token in enumerate(vocab)}\n",
    "idx2token = {idx:token for idx, token in enumerate(vocab)}"
   ]
  },
  {
   "cell_type": "code",
   "execution_count": 15,
   "metadata": {},
   "outputs": [
    {
     "data": {
      "text/plain": [
       "8002"
      ]
     },
     "execution_count": 15,
     "metadata": {},
     "output_type": "execute_result"
    }
   ],
   "source": [
    "VOCAB_SIZE = len(token2idx)\n",
    "VOCAB_SIZE"
   ]
  },
  {
   "cell_type": "markdown",
   "metadata": {},
   "source": [
    "## Encode"
   ]
  },
  {
   "cell_type": "code",
   "execution_count": 16,
   "metadata": {},
   "outputs": [
    {
     "data": {
      "text/plain": [
       "True"
      ]
     },
     "execution_count": 16,
     "metadata": {},
     "output_type": "execute_result"
    }
   ],
   "source": [
    "sp = spm.SentencePieceProcessor()\n",
    "sp.Load('quora/bpe/bpe.model')"
   ]
  },
  {
   "cell_type": "code",
   "execution_count": 18,
   "metadata": {},
   "outputs": [],
   "source": [
    "def encode_sents(sent1, sent2):\n",
    "    tokens1 = [token2idx.get(token, 1) for token in sp.EncodeAsPieces(sent1)]\n",
    "    tokens2 = [token2idx.get(token, 1) for token in sp.EncodeAsPieces(sent2)]\n",
    "    tokens = [2] + tokens1 + [4] + tokens2 + [3] + [0]*MAXLEN # <bos> ... <sep> ... <eos> <pad> <pad> ...\n",
    "    tokens = tokens[:MAXLEN]\n",
    "    return tokens    "
   ]
  },
  {
   "cell_type": "markdown",
   "metadata": {},
   "source": [
    "### \\#1. baseline"
   ]
  },
  {
   "cell_type": "code",
   "execution_count": 36,
   "metadata": {},
   "outputs": [],
   "source": [
    "_X_train0, _X_train1 = [], [] # list of lists\n",
    "for sent1, sent2 in train0:\n",
    "    tokens = encode_sents(sent1, sent2)\n",
    "    _X_train0.append(tokens)\n",
    "for sent1, sent2 in train1:\n",
    "    tokens = encode_sents(sent1, sent2)\n",
    "    _X_train1.append(tokens)\n",
    "_X_train = _X_train0 + _X_train1\n",
    "_Y_train = [0]*len(_X_train0) + [1]*len(_X_train1)"
   ]
  },
  {
   "cell_type": "markdown",
   "metadata": {},
   "source": [
    "### \\#2. oversample (w/out aug.)"
   ]
  },
  {
   "cell_type": "code",
   "execution_count": 40,
   "metadata": {},
   "outputs": [],
   "source": [
    "_X_train0_over = _X_train0*2 # list of lists\n",
    "_X_train_over = _X_train0_over + _X_train1\n",
    "_Y_train_over = [0]*len(_X_train0_over) + [1]*len(_X_train1)"
   ]
  },
  {
   "cell_type": "markdown",
   "metadata": {},
   "source": [
    "### \\#3. oversample (w/ aug.)"
   ]
  },
  {
   "cell_type": "code",
   "execution_count": 37,
   "metadata": {},
   "outputs": [],
   "source": [
    "_X_train0_aug = copy.copy(_X_train0) # list of lists\n",
    "for sent1, sent2 in train0*10:\n",
    "    tokens = encode_sents(sent1, random.choice(train01))\n",
    "    _X_train0_aug.append(tokens)\n",
    "    tokens = encode_sents(random.choice(train01), sent2)\n",
    "    _X_train0_aug.append(tokens)\n",
    "    if len(_X_train0_aug) > len(_X_train1): break\n",
    "\n",
    "_X_train_aug = _X_train0_aug + _X_train1\n",
    "_Y_train_aug = [0]*len(_X_train0_aug) + [1]*len(_X_train1)"
   ]
  },
  {
   "cell_type": "markdown",
   "metadata": {},
   "source": [
    "### dev"
   ]
  },
  {
   "cell_type": "code",
   "execution_count": 22,
   "metadata": {},
   "outputs": [],
   "source": [
    "_X_dev0, _X_dev1 = [], [] # list of lists\n",
    "for sent1, sent2 in dev0:\n",
    "    tokens = encode_sents(sent1, sent2)\n",
    "    _X_dev0.append(tokens)\n",
    "for sent1, sent2 in dev1:\n",
    "    tokens = encode_sents(sent1, sent2)\n",
    "    _X_dev1.append(tokens)\n",
    "\n",
    "_X_dev = _X_dev0 + _X_dev1\n",
    "_Y_dev = [0]*len(_X_dev0) + [1]*len(_X_dev1)"
   ]
  },
  {
   "cell_type": "markdown",
   "metadata": {},
   "source": [
    "### Convert to tensors"
   ]
  },
  {
   "cell_type": "code",
   "execution_count": 41,
   "metadata": {},
   "outputs": [],
   "source": [
    "X_train = torch.LongTensor(_X_train)\n",
    "Y_train = torch.LongTensor(_Y_train)\n",
    "\n",
    "X_train_over = torch.LongTensor(_X_train_over)\n",
    "Y_train_over = torch.LongTensor(_Y_train_over)\n",
    "\n",
    "X_train_aug = torch.LongTensor(_X_train_aug)\n",
    "Y_train_aug = torch.LongTensor(_Y_train_aug)\n",
    "\n",
    "X_dev = torch.LongTensor(_X_dev)\n",
    "Y_dev = torch.LongTensor(_Y_dev)"
   ]
  },
  {
   "cell_type": "markdown",
   "metadata": {},
   "source": [
    "## Data Loader"
   ]
  },
  {
   "cell_type": "markdown",
   "metadata": {},
   "source": [
    "### \\#1. baseline"
   ]
  },
  {
   "cell_type": "code",
   "execution_count": 42,
   "metadata": {},
   "outputs": [
    {
     "name": "stdout",
     "output_type": "stream",
     "text": [
      "469\n"
     ]
    }
   ],
   "source": [
    "train_dataset = Data.TensorDataset(X_train, Y_train)\n",
    "train_loader = Data.DataLoader(dataset=train_dataset,\n",
    "                              batch_size=BATCH_SIZE,\n",
    "                              shuffle=True,\n",
    "                              num_workers=4)\n",
    "print(len(train_loader))"
   ]
  },
  {
   "cell_type": "markdown",
   "metadata": {},
   "source": [
    "### \\#2. oversample"
   ]
  },
  {
   "cell_type": "code",
   "execution_count": 43,
   "metadata": {},
   "outputs": [
    {
     "name": "stdout",
     "output_type": "stream",
     "text": [
      "625\n"
     ]
    }
   ],
   "source": [
    "train_over_dataset = Data.TensorDataset(X_train_over, Y_train_over)\n",
    "train_over_loader = Data.DataLoader(dataset=train_over_dataset,\n",
    "                              batch_size=BATCH_SIZE,\n",
    "                              shuffle=True,\n",
    "                              num_workers=4)\n",
    "print(len(train_over_loader))"
   ]
  },
  {
   "cell_type": "markdown",
   "metadata": {},
   "source": [
    "### \\#3. aug."
   ]
  },
  {
   "cell_type": "code",
   "execution_count": 44,
   "metadata": {},
   "outputs": [
    {
     "name": "stdout",
     "output_type": "stream",
     "text": [
      "626\n"
     ]
    }
   ],
   "source": [
    "train_aug_dataset = Data.TensorDataset(X_train_aug, Y_train_aug)\n",
    "train_aug_loader = Data.DataLoader(dataset=train_aug_dataset,\n",
    "                              batch_size=BATCH_SIZE,\n",
    "                              shuffle=True,\n",
    "                              num_workers=4)\n",
    "print(len(train_aug_loader))"
   ]
  },
  {
   "cell_type": "markdown",
   "metadata": {},
   "source": [
    "### dev"
   ]
  },
  {
   "cell_type": "code",
   "execution_count": 45,
   "metadata": {},
   "outputs": [
    {
     "name": "stdout",
     "output_type": "stream",
     "text": [
      "40\n"
     ]
    }
   ],
   "source": [
    "dev_dataset = Data.TensorDataset(X_dev, Y_dev)\n",
    "dev_loader = Data.DataLoader(dataset=dev_dataset,\n",
    "                              batch_size=BATCH_SIZE,\n",
    "                              shuffle=False,\n",
    "                              num_workers=4)\n",
    "print(len(dev_loader))"
   ]
  },
  {
   "cell_type": "markdown",
   "metadata": {},
   "source": [
    "## Model"
   ]
  },
  {
   "cell_type": "code",
   "execution_count": 46,
   "metadata": {},
   "outputs": [],
   "source": [
    "class Net(nn.Module):\n",
    "    def __init__(self, embedding_dim=256, hidden_dim=256, vocab_size=VOCAB_SIZE):\n",
    "        '''\n",
    "        Fix the model architecture and its parameters for this purpose\n",
    "        '''\n",
    "        super(Net, self).__init__()\n",
    "        \n",
    "        self.embed = nn.Embedding(vocab_size, embedding_dim, padding_idx=0)\n",
    "        self.lstm = nn.LSTM(embedding_dim, hidden_dim, batch_first=True, bidirectional=True)\n",
    "        self.dense = nn.Linear(hidden_dim, 2)\n",
    "\n",
    "    def forward(self, x):\n",
    "        x = x.to('cuda')\n",
    "        x = self.embed(x)  \n",
    "        \n",
    "        outputs, (h, c) = self.lstm(x) # (maxlen, batch, hidden_dim)\n",
    "        last_hidden_states = h[-1]\n",
    "        \n",
    "        logits = self.dense(last_hidden_states)\n",
    "        return logits\n"
   ]
  },
  {
   "cell_type": "markdown",
   "metadata": {},
   "source": [
    "## Train & test functions"
   ]
  },
  {
   "cell_type": "code",
   "execution_count": 47,
   "metadata": {},
   "outputs": [],
   "source": [
    "def train(model, train_loader, optimizer, criterion, epoch):\n",
    "    model.train()\n",
    "    for batch_idx, (inputs, targets) in enumerate(train_loader):\n",
    "        optimizer.zero_grad()\n",
    "        logits = model(inputs)\n",
    "        targets = targets.to('cuda')\n",
    "        loss = criterion(logits, targets)\n",
    "        \n",
    "        loss.backward()\n",
    "        optimizer.step()\n",
    "    return loss"
   ]
  },
  {
   "cell_type": "code",
   "execution_count": 51,
   "metadata": {},
   "outputs": [],
   "source": [
    "def eval(model, dev_loader):\n",
    "    model.eval()\n",
    "    y_pred, y_true = [], []\n",
    "    with torch.no_grad():\n",
    "        for inputs, targets in dev_loader:\n",
    "            logits = model(inputs)\n",
    "            logits, preds = logits.max(1, keepdim=False)  # get the index of the max log-probability. (batch,)\n",
    "            y_pred.extend(preds.tolist())\n",
    "            y_true.extend(targets.tolist())           \n",
    "    \n",
    "    f1score = f1_score(y_true, y_pred)\n",
    "\n",
    "    print('eval set: F1_score: %0.3f\\n' %(\n",
    "        f1score))"
   ]
  },
  {
   "cell_type": "code",
   "execution_count": 52,
   "metadata": {
    "scrolled": false
   },
   "outputs": [],
   "source": [
    "def train_eval(type):\n",
    "    model = Net().cuda()\n",
    "    optimizer = optim.Adam(model.parameters(), lr=.001)\n",
    "    criterion = nn.CrossEntropyLoss()\n",
    "\n",
    "    for epoch in range(1, 10+1):\n",
    "        if type==\"base\":\n",
    "            loader = train_loader\n",
    "        elif type==\"over\":\n",
    "            loader = train_over_loader\n",
    "        else:\n",
    "            loader = train_aug_loader\n",
    "        loss = train(model, loader, optimizer, criterion, epoch)\n",
    "        print(\"epoch=%d, loss=%.3f\" % (epoch, loss))\n",
    "        eval(model, dev_loader)\n",
    "\n",
    "        torch.save(model.state_dict(), f\"quora/ckpt{epoch}.pt\")\n"
   ]
  },
  {
   "cell_type": "markdown",
   "metadata": {},
   "source": [
    "## Experiments"
   ]
  },
  {
   "cell_type": "markdown",
   "metadata": {},
   "source": [
    "### \\#1. baseline"
   ]
  },
  {
   "cell_type": "code",
   "execution_count": 53,
   "metadata": {},
   "outputs": [
    {
     "name": "stdout",
     "output_type": "stream",
     "text": [
      "epoch=1, loss=0.540\n",
      "eval set: F1_score: 0.739\n",
      "\n",
      "epoch=2, loss=0.453\n",
      "eval set: F1_score: 0.754\n",
      "\n",
      "epoch=3, loss=0.435\n",
      "eval set: F1_score: 0.760\n",
      "\n",
      "epoch=4, loss=0.393\n",
      "eval set: F1_score: 0.767\n",
      "\n",
      "epoch=5, loss=0.290\n",
      "eval set: F1_score: 0.764\n",
      "\n",
      "epoch=6, loss=0.312\n",
      "eval set: F1_score: 0.769\n",
      "\n",
      "epoch=7, loss=0.121\n",
      "eval set: F1_score: 0.766\n",
      "\n",
      "epoch=8, loss=0.110\n",
      "eval set: F1_score: 0.767\n",
      "\n",
      "epoch=9, loss=0.108\n",
      "eval set: F1_score: 0.761\n",
      "\n",
      "epoch=10, loss=0.098\n",
      "eval set: F1_score: 0.756\n",
      "\n"
     ]
    }
   ],
   "source": [
    "train_eval(\"base\")"
   ]
  },
  {
   "cell_type": "markdown",
   "metadata": {},
   "source": [
    "### \\#2. oversample"
   ]
  },
  {
   "cell_type": "code",
   "execution_count": 54,
   "metadata": {},
   "outputs": [
    {
     "name": "stdout",
     "output_type": "stream",
     "text": [
      "epoch=1, loss=0.520\n",
      "eval set: F1_score: 0.732\n",
      "\n",
      "epoch=2, loss=0.450\n",
      "eval set: F1_score: 0.755\n",
      "\n",
      "epoch=3, loss=0.422\n",
      "eval set: F1_score: 0.750\n",
      "\n",
      "epoch=4, loss=0.261\n",
      "eval set: F1_score: 0.764\n",
      "\n",
      "epoch=5, loss=0.164\n",
      "eval set: F1_score: 0.768\n",
      "\n",
      "epoch=6, loss=0.088\n",
      "eval set: F1_score: 0.762\n",
      "\n",
      "epoch=7, loss=0.074\n",
      "eval set: F1_score: 0.760\n",
      "\n",
      "epoch=8, loss=0.060\n",
      "eval set: F1_score: 0.764\n",
      "\n",
      "epoch=9, loss=0.041\n",
      "eval set: F1_score: 0.765\n",
      "\n",
      "epoch=10, loss=0.042\n",
      "eval set: F1_score: 0.761\n",
      "\n"
     ]
    }
   ],
   "source": [
    "train_eval(\"over\")"
   ]
  },
  {
   "cell_type": "markdown",
   "metadata": {},
   "source": [
    "### \\#3. aug."
   ]
  },
  {
   "cell_type": "code",
   "execution_count": 55,
   "metadata": {},
   "outputs": [
    {
     "name": "stdout",
     "output_type": "stream",
     "text": [
      "epoch=1, loss=0.662\n",
      "eval set: F1_score: 0.739\n",
      "\n",
      "epoch=2, loss=0.603\n",
      "eval set: F1_score: 0.761\n",
      "\n",
      "epoch=3, loss=0.034\n",
      "eval set: F1_score: 0.780\n",
      "\n",
      "epoch=4, loss=0.289\n",
      "eval set: F1_score: 0.780\n",
      "\n",
      "epoch=5, loss=0.001\n",
      "eval set: F1_score: 0.784\n",
      "\n",
      "epoch=6, loss=0.265\n",
      "eval set: F1_score: 0.782\n",
      "\n",
      "epoch=7, loss=0.004\n",
      "eval set: F1_score: 0.787\n",
      "\n",
      "epoch=8, loss=0.000\n",
      "eval set: F1_score: 0.775\n",
      "\n",
      "epoch=9, loss=0.000\n",
      "eval set: F1_score: 0.777\n",
      "\n",
      "epoch=10, loss=0.000\n",
      "eval set: F1_score: 0.781\n",
      "\n"
     ]
    }
   ],
   "source": [
    "train_eval(\"aug\")"
   ]
  },
  {
   "cell_type": "code",
   "execution_count": null,
   "metadata": {},
   "outputs": [],
   "source": []
  }
 ],
 "metadata": {
  "anaconda-cloud": {},
  "kernelspec": {
   "display_name": "Python 3",
   "language": "python",
   "name": "python3"
  },
  "language_info": {
   "codemirror_mode": {
    "name": "ipython",
    "version": 3
   },
   "file_extension": ".py",
   "mimetype": "text/x-python",
   "name": "python",
   "nbconvert_exporter": "python",
   "pygments_lexer": "ipython3",
   "version": "3.6.7"
  }
 },
 "nbformat": 4,
 "nbformat_minor": 2
}
